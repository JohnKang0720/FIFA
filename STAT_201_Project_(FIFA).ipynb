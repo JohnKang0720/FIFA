{
  "cells": [
    {
      "cell_type": "markdown",
      "metadata": {
        "id": "view-in-github",
        "colab_type": "text"
      },
      "source": [
        "<a href=\"https://colab.research.google.com/github/JohnKang0720/FIFA/blob/main/STAT_201_Project_(FIFA).ipynb\" target=\"_parent\"><img src=\"https://colab.research.google.com/assets/colab-badge.svg\" alt=\"Open In Colab\"/></a>"
      ]
    },
    {
      "cell_type": "code",
      "execution_count": null,
      "metadata": {
        "id": "CfJh3cUI_TEZ"
      },
      "outputs": [],
      "source": [
        "%load_ext rpy2.ipython"
      ]
    },
    {
      "cell_type": "markdown",
      "metadata": {
        "id": "SaUWMKO4EnA9"
      },
      "source": [
        "# **Statistical Inference regarding Performance/Statistics of Soccer players.**\n",
        "\n",
        "**Members**: John Kang, Pedro Moretzshon Aaron Wang, Briana Pavey (Group 30)"
      ]
    },
    {
      "cell_type": "markdown",
      "metadata": {
        "id": "7ntZKEGWFlJx"
      },
      "source": [
        "# 1. Introduction\n",
        "\n",
        "Statistical inference on athletes regarding their in-game stats happen on a daily basis by sport statisticians and is a significant factor that improves the quality of their performances through discovery of certain patterns and weaknesses with data analysis. For this report, we want to find a specific pattern that could possibly create a positive effect towards sport teams.\n",
        "\n",
        "For a long time, there has been a debate whether or not left-footed players are more offensively skilled than right-footed players. To settle this, we will use statistical inference. Specifically, we will be using statistical inference methods to see the behavioral patterns of FIFA athletes: Does the preferred foot of attacking players affect dribbling, passing and shooting skills?\n",
        "\n",
        "The dataset for this report is a FIFA 2017 Dataset from Kaggle -- a reliable dataset company -- consisting of 17,000 players along with 50+ attributes such as their overall ratings, personal information (names, age) and their associated team in the Fifa League.\n",
        "We will be using the following columns:\n",
        "\n",
        "\n",
        "\n",
        "*   ```preferred_foot```: Preferred foot of the player (left or right).\n",
        "*   ```skill_dribbling```: Dribbling rating/How good the player dribbles.\n",
        "*   ```passing```: Pass rating/How good the player passes.\n",
        "*   ```skill_fk_accuracy```: Shooting accuracy.\n",
        "\n",
        "This report will calculate the **mean differences** of the response variables: ```skill_dribbling```, ```passing```, ```skill_fk_accuracy``` as well as the **standard deviation** to see if the effect of ```preferred_foot``` is statistically significant. We chose to use the mean and standard deviation because the plots below are approximately normally distributed with almost no outliers. Hence, mean and SD would be accurate measures of center and spread respectively. We are only focusing on offensive players as they are more likely to have all three of the above statistics, whereas a goal-keeper or defender would not have any shooting stats.\n",
        "\n",
        "We will also explore other statistics like quantiles and variances of the variables between left-foot and right-foot attackers to explore the spread of the bootstrap distributions (See Preliminary Results for this exploration).\n",
        "\n",
        "**Method of Test:** We will use the ```infer``` package (to generate null distributions for each response variables and calculate the p-values) to conduct hypothesis test FOR EACH OF THE VARIABLES (```passing```, ```skill_dribbling```, and ```skill_fk_accuracy```) with the null hypothesis (H0) being that\n",
        "```preferred_foot```\n",
        "has no effect on performance and the alternative hypothesis (H1) being that there IS an effect. Hence, we are using the two-sample t-test to compare the mean differences of ```passing```, ```skill_dribbling```, and ```skill_fk_accuracy``` between 2 groups and calculate the p-value using the t-distribution.\n",
        "\n",
        "$$H_0: \\mu_1 - \\mu_2 = 0$$ $$vs$$ $$H_1: \\mu_1 - \\mu_2 \\neq 0$$,\n",
        "where $\\mu_1$: mean of EACH of the ```passing```, ```skill_dribbling```, and ```skill_fk_accuracy``` for right-footed attackers and  $\\mu_2$: mean of each skills of the left-footed attackers.\n",
        "The same hypothesis test will also be conducted for the SCALE parameter -- standard deviation.\n",
        "\n",
        "$$H_0: \\sigma_1 - \\sigma_2 = 0$$ $$vs$$ $$H_1: \\sigma_1 - \\sigma_2 \\neq 0$$\n",
        "\n",
        "Ideally, given that the $H_0$ is rejected for the *mean differences*, the p-value for the t-statistic on the null distribution (t-distribution) between left and right footed players for *standard deviation* should be 0. This is because deviations between the data points for left and right players should not be too high, otherwise it is hard to distinguish the skill differences between left and right players."
      ]
    },
    {
      "cell_type": "markdown",
      "metadata": {
        "id": "IeJHCmEFLgYE"
      },
      "source": [
        "<h2> 2. Preliminary Data Analysis </h2>\n",
        "\n",
        "Through this analysis, we will demonstrate how the data can be imported and cleaned, summarized into useful information and visualized with distinct colors representing different severity.\n",
        "\n",
        "**Important Note:** We are treating the dataset as the \"population\" and we will begin the preliminary data analysis by taking A SINGLE sample. This is because the population contains absolutely ALL the players' dataset in 2017, which it makes sense to be the population.\n",
        "\n",
        "**Required Packages/Libraries:**\n",
        "- moderndive\n",
        "- infer\n",
        "- tidyverse\n",
        "- repr\n",
        "- ggplot2"
      ]
    },
    {
      "cell_type": "code",
      "execution_count": null,
      "metadata": {
        "colab": {
          "base_uri": "https://localhost:8080/"
        },
        "id": "sjKX9ph9ARg_",
        "outputId": "8269b320-9f67-4d23-9815-479c1ecd2f19"
      },
      "outputs": [
        {
          "output_type": "stream",
          "name": "stderr",
          "text": [
            "WARNING:rpy2.rinterface_lib.callbacks:R[write to console]: Installing package into ‘/usr/local/lib/R/site-library’\n",
            "(as ‘lib’ is unspecified)\n",
            "\n",
            "WARNING:rpy2.rinterface_lib.callbacks:R[write to console]: trying URL 'https://cran.rstudio.com/src/contrib/moderndive_0.5.5.tar.gz'\n",
            "\n",
            "WARNING:rpy2.rinterface_lib.callbacks:R[write to console]: Content type 'application/x-gzip'\n",
            "WARNING:rpy2.rinterface_lib.callbacks:R[write to console]:  length 3489824 bytes (3.3 MB)\n",
            "\n",
            "WARNING:rpy2.rinterface_lib.callbacks:R[write to console]: =\n",
            "WARNING:rpy2.rinterface_lib.callbacks:R[write to console]: =\n",
            "WARNING:rpy2.rinterface_lib.callbacks:R[write to console]: =\n",
            "WARNING:rpy2.rinterface_lib.callbacks:R[write to console]: =\n",
            "WARNING:rpy2.rinterface_lib.callbacks:R[write to console]: =\n",
            "WARNING:rpy2.rinterface_lib.callbacks:R[write to console]: =\n",
            "WARNING:rpy2.rinterface_lib.callbacks:R[write to console]: =\n",
            "WARNING:rpy2.rinterface_lib.callbacks:R[write to console]: =\n",
            "WARNING:rpy2.rinterface_lib.callbacks:R[write to console]: =\n",
            "WARNING:rpy2.rinterface_lib.callbacks:R[write to console]: =\n",
            "WARNING:rpy2.rinterface_lib.callbacks:R[write to console]: =\n",
            "WARNING:rpy2.rinterface_lib.callbacks:R[write to console]: =\n",
            "WARNING:rpy2.rinterface_lib.callbacks:R[write to console]: =\n",
            "WARNING:rpy2.rinterface_lib.callbacks:R[write to console]: =\n",
            "WARNING:rpy2.rinterface_lib.callbacks:R[write to console]: =\n",
            "WARNING:rpy2.rinterface_lib.callbacks:R[write to console]: =\n",
            "WARNING:rpy2.rinterface_lib.callbacks:R[write to console]: =\n",
            "WARNING:rpy2.rinterface_lib.callbacks:R[write to console]: =\n",
            "WARNING:rpy2.rinterface_lib.callbacks:R[write to console]: =\n",
            "WARNING:rpy2.rinterface_lib.callbacks:R[write to console]: =\n",
            "WARNING:rpy2.rinterface_lib.callbacks:R[write to console]: =\n",
            "WARNING:rpy2.rinterface_lib.callbacks:R[write to console]: =\n",
            "WARNING:rpy2.rinterface_lib.callbacks:R[write to console]: =\n",
            "WARNING:rpy2.rinterface_lib.callbacks:R[write to console]: =\n",
            "WARNING:rpy2.rinterface_lib.callbacks:R[write to console]: =\n",
            "WARNING:rpy2.rinterface_lib.callbacks:R[write to console]: =\n",
            "WARNING:rpy2.rinterface_lib.callbacks:R[write to console]: =\n",
            "WARNING:rpy2.rinterface_lib.callbacks:R[write to console]: =\n",
            "WARNING:rpy2.rinterface_lib.callbacks:R[write to console]: =\n",
            "WARNING:rpy2.rinterface_lib.callbacks:R[write to console]: =\n",
            "WARNING:rpy2.rinterface_lib.callbacks:R[write to console]: =\n",
            "WARNING:rpy2.rinterface_lib.callbacks:R[write to console]: =\n",
            "WARNING:rpy2.rinterface_lib.callbacks:R[write to console]: =\n",
            "WARNING:rpy2.rinterface_lib.callbacks:R[write to console]: =\n",
            "WARNING:rpy2.rinterface_lib.callbacks:R[write to console]: =\n",
            "WARNING:rpy2.rinterface_lib.callbacks:R[write to console]: =\n",
            "WARNING:rpy2.rinterface_lib.callbacks:R[write to console]: =\n",
            "WARNING:rpy2.rinterface_lib.callbacks:R[write to console]: =\n",
            "WARNING:rpy2.rinterface_lib.callbacks:R[write to console]: =\n",
            "WARNING:rpy2.rinterface_lib.callbacks:R[write to console]: =\n",
            "WARNING:rpy2.rinterface_lib.callbacks:R[write to console]: =\n",
            "WARNING:rpy2.rinterface_lib.callbacks:R[write to console]: =\n",
            "WARNING:rpy2.rinterface_lib.callbacks:R[write to console]: =\n",
            "WARNING:rpy2.rinterface_lib.callbacks:R[write to console]: =\n",
            "WARNING:rpy2.rinterface_lib.callbacks:R[write to console]: =\n",
            "WARNING:rpy2.rinterface_lib.callbacks:R[write to console]: =\n",
            "WARNING:rpy2.rinterface_lib.callbacks:R[write to console]: =\n",
            "WARNING:rpy2.rinterface_lib.callbacks:R[write to console]: =\n",
            "WARNING:rpy2.rinterface_lib.callbacks:R[write to console]: =\n",
            "WARNING:rpy2.rinterface_lib.callbacks:R[write to console]: =\n",
            "WARNING:rpy2.rinterface_lib.callbacks:R[write to console]: \n",
            "\n",
            "WARNING:rpy2.rinterface_lib.callbacks:R[write to console]: downloaded 3.3 MB\n",
            "\n",
            "\n",
            "WARNING:rpy2.rinterface_lib.callbacks:R[write to console]: \n",
            "\n",
            "WARNING:rpy2.rinterface_lib.callbacks:R[write to console]: \n",
            "WARNING:rpy2.rinterface_lib.callbacks:R[write to console]: The downloaded source packages are in\n",
            "\t‘/tmp/RtmpqQVMYK/downloaded_packages’\n",
            "WARNING:rpy2.rinterface_lib.callbacks:R[write to console]: \n",
            "WARNING:rpy2.rinterface_lib.callbacks:R[write to console]: \n",
            "\n",
            "WARNING:rpy2.rinterface_lib.callbacks:R[write to console]: Installing package into ‘/usr/local/lib/R/site-library’\n",
            "(as ‘lib’ is unspecified)\n",
            "\n",
            "WARNING:rpy2.rinterface_lib.callbacks:R[write to console]: trying URL 'https://cran.rstudio.com/src/contrib/infer_1.0.5.tar.gz'\n",
            "\n",
            "WARNING:rpy2.rinterface_lib.callbacks:R[write to console]: Content type 'application/x-gzip'\n",
            "WARNING:rpy2.rinterface_lib.callbacks:R[write to console]:  length 2939852 bytes (2.8 MB)\n",
            "\n",
            "WARNING:rpy2.rinterface_lib.callbacks:R[write to console]: =\n",
            "WARNING:rpy2.rinterface_lib.callbacks:R[write to console]: =\n",
            "WARNING:rpy2.rinterface_lib.callbacks:R[write to console]: =\n",
            "WARNING:rpy2.rinterface_lib.callbacks:R[write to console]: =\n",
            "WARNING:rpy2.rinterface_lib.callbacks:R[write to console]: =\n",
            "WARNING:rpy2.rinterface_lib.callbacks:R[write to console]: =\n",
            "WARNING:rpy2.rinterface_lib.callbacks:R[write to console]: =\n",
            "WARNING:rpy2.rinterface_lib.callbacks:R[write to console]: =\n",
            "WARNING:rpy2.rinterface_lib.callbacks:R[write to console]: =\n",
            "WARNING:rpy2.rinterface_lib.callbacks:R[write to console]: =\n",
            "WARNING:rpy2.rinterface_lib.callbacks:R[write to console]: =\n",
            "WARNING:rpy2.rinterface_lib.callbacks:R[write to console]: =\n",
            "WARNING:rpy2.rinterface_lib.callbacks:R[write to console]: =\n",
            "WARNING:rpy2.rinterface_lib.callbacks:R[write to console]: =\n",
            "WARNING:rpy2.rinterface_lib.callbacks:R[write to console]: =\n",
            "WARNING:rpy2.rinterface_lib.callbacks:R[write to console]: =\n",
            "WARNING:rpy2.rinterface_lib.callbacks:R[write to console]: =\n",
            "WARNING:rpy2.rinterface_lib.callbacks:R[write to console]: =\n",
            "WARNING:rpy2.rinterface_lib.callbacks:R[write to console]: =\n",
            "WARNING:rpy2.rinterface_lib.callbacks:R[write to console]: =\n",
            "WARNING:rpy2.rinterface_lib.callbacks:R[write to console]: =\n",
            "WARNING:rpy2.rinterface_lib.callbacks:R[write to console]: =\n",
            "WARNING:rpy2.rinterface_lib.callbacks:R[write to console]: =\n",
            "WARNING:rpy2.rinterface_lib.callbacks:R[write to console]: =\n",
            "WARNING:rpy2.rinterface_lib.callbacks:R[write to console]: =\n",
            "WARNING:rpy2.rinterface_lib.callbacks:R[write to console]: =\n",
            "WARNING:rpy2.rinterface_lib.callbacks:R[write to console]: =\n",
            "WARNING:rpy2.rinterface_lib.callbacks:R[write to console]: =\n",
            "WARNING:rpy2.rinterface_lib.callbacks:R[write to console]: =\n",
            "WARNING:rpy2.rinterface_lib.callbacks:R[write to console]: =\n",
            "WARNING:rpy2.rinterface_lib.callbacks:R[write to console]: =\n",
            "WARNING:rpy2.rinterface_lib.callbacks:R[write to console]: =\n",
            "WARNING:rpy2.rinterface_lib.callbacks:R[write to console]: =\n",
            "WARNING:rpy2.rinterface_lib.callbacks:R[write to console]: =\n",
            "WARNING:rpy2.rinterface_lib.callbacks:R[write to console]: =\n",
            "WARNING:rpy2.rinterface_lib.callbacks:R[write to console]: =\n",
            "WARNING:rpy2.rinterface_lib.callbacks:R[write to console]: =\n",
            "WARNING:rpy2.rinterface_lib.callbacks:R[write to console]: =\n",
            "WARNING:rpy2.rinterface_lib.callbacks:R[write to console]: =\n",
            "WARNING:rpy2.rinterface_lib.callbacks:R[write to console]: =\n",
            "WARNING:rpy2.rinterface_lib.callbacks:R[write to console]: =\n",
            "WARNING:rpy2.rinterface_lib.callbacks:R[write to console]: =\n",
            "WARNING:rpy2.rinterface_lib.callbacks:R[write to console]: =\n",
            "WARNING:rpy2.rinterface_lib.callbacks:R[write to console]: =\n",
            "WARNING:rpy2.rinterface_lib.callbacks:R[write to console]: =\n",
            "WARNING:rpy2.rinterface_lib.callbacks:R[write to console]: =\n",
            "WARNING:rpy2.rinterface_lib.callbacks:R[write to console]: =\n",
            "WARNING:rpy2.rinterface_lib.callbacks:R[write to console]: =\n",
            "WARNING:rpy2.rinterface_lib.callbacks:R[write to console]: =\n",
            "WARNING:rpy2.rinterface_lib.callbacks:R[write to console]: =\n",
            "WARNING:rpy2.rinterface_lib.callbacks:R[write to console]: \n",
            "\n",
            "WARNING:rpy2.rinterface_lib.callbacks:R[write to console]: downloaded 2.8 MB\n",
            "\n",
            "\n",
            "WARNING:rpy2.rinterface_lib.callbacks:R[write to console]: \n",
            "\n",
            "WARNING:rpy2.rinterface_lib.callbacks:R[write to console]: \n",
            "WARNING:rpy2.rinterface_lib.callbacks:R[write to console]: The downloaded source packages are in\n",
            "\t‘/tmp/RtmpqQVMYK/downloaded_packages’\n",
            "WARNING:rpy2.rinterface_lib.callbacks:R[write to console]: \n",
            "WARNING:rpy2.rinterface_lib.callbacks:R[write to console]: \n",
            "\n"
          ]
        }
      ],
      "source": [
        "#Download required libraries\n",
        "%%R\n",
        "install.packages(\"moderndive\")\n",
        "install.packages(\"infer\")\n",
        "\n",
        "library(tidyverse)\n",
        "library(repr)\n",
        "library(ggplot2)\n",
        "library(moderndive)\n",
        "library(infer)"
      ]
    },
    {
      "cell_type": "markdown",
      "metadata": {
        "id": "MWxZEZTyGIQJ"
      },
      "source": [
        "<h4> Reading & Cleaning/Wrangling Data </h4>"
      ]
    },
    {
      "cell_type": "code",
      "execution_count": null,
      "metadata": {
        "colab": {
          "base_uri": "https://localhost:8080/"
        },
        "id": "4AcRfal3FCRm",
        "outputId": "358f1757-531f-4326-df18-d348dd40950f"
      },
      "outputs": [
        {
          "output_type": "stream",
          "name": "stdout",
          "text": [
            "New names:\n",
            "• `` -> `...1`\n",
            "Rows: 16155 Columns: 81\n",
            "── Column specification ────────────────────────────────────────────────────────\n",
            "Delimiter: \",\"\n",
            "chr  (16): player_url, short_name, long_name, nationality, club_name, league...\n",
            "dbl  (61): ...1, sofifa_id, age, height_cm, weight_kg, league_rank, overall,...\n",
            "lgl   (2): release_clause_eur, mentality_composure\n",
            "date  (2): dob, joined\n",
            "\n",
            "ℹ Use `spec()` to retrieve the full column specification for this data.\n",
            "ℹ Specify the column types or set `show_col_types = FALSE` to quiet this message.\n",
            "# A tibble: 6 × 7\n",
            "  short_name        overall team_position preferred_foot skill_dribbling passing\n",
            "  <chr>               <dbl> <chr>         <chr>                    <dbl>   <dbl>\n",
            "1 L. Messi               93 CF            Left                        96      86\n",
            "2 Cristiano Ronaldo      92 LW            Right                       93      81\n",
            "3 Z. Ibrahimović         90 ST            Right                       88      81\n",
            "4 G. Bale                87 RW            Left                        87      83\n",
            "5 Neymar                 86 LW            Right                       94      72\n",
            "6 S. Agüero              86 ST            Right                       89      77\n",
            "# ℹ 1 more variable: skill_fk_accuracy <dbl>\n"
          ]
        }
      ],
      "source": [
        "#Reading data from web\n",
        "%%R\n",
        "\n",
        "fifa_pop <- read_csv(\"https://raw.githubusercontent.com/rashida048/Datasets/master/fifa.csv\")\n",
        "\n",
        "#SELECT used columns and remove all NA values (since goalkeepers don't pass, they have NA for some columns).\n",
        "#FILTER attack positions only.\n",
        "fifa_tidy <- fifa_pop |>\n",
        "             filter(team_position == \"LW\" | team_position == \"RW\" | team_position == \"ST\" | team_position == \"CF\") |>\n",
        "             filter(!is.na(skill_dribbling)) |>\n",
        "             filter(!is.na(passing)) |>\n",
        "             filter(!is.na(skill_fk_accuracy)) |>\n",
        "             select(short_name, overall, team_position, preferred_foot, skill_dribbling, passing, skill_fk_accuracy) |>\n",
        "             arrange(desc(overall))\n",
        "\n",
        "#SET Right foot to R and Left foot to L for convenience.\n",
        "fifa_tidy |>\n",
        "          mutate(preferred_foot = recode(preferred_foot, 'Right' = 'R')) |>\n",
        "          mutate(preferred_foot = recode(preferred_foot, 'Left' = 'L'))\n",
        "\n",
        "head(fifa_tidy)"
      ]
    },
    {
      "cell_type": "markdown",
      "metadata": {
        "id": "0BnXmOHsGaON"
      },
      "source": [
        "<h4> Taking a single sample from population </h4>"
      ]
    },
    {
      "cell_type": "code",
      "execution_count": null,
      "metadata": {
        "colab": {
          "base_uri": "https://localhost:8080/"
        },
        "id": "rgrqCNfYN75C",
        "outputId": "93b13ad7-c953-4d2b-9e9f-f87ee74e43ce"
      },
      "outputs": [
        {
          "output_type": "stream",
          "name": "stdout",
          "text": [
            "# A tibble: 200 × 8\n",
            "# Groups:   replicate [1]\n",
            "   replicate short_name    overall team_position preferred_foot skill_dribbling\n",
            "       <int> <chr>           <dbl> <chr>         <chr>                    <dbl>\n",
            " 1         1 D. Pecirep         57 ST            Right                       56\n",
            " 2         1 D. Brown           68 ST            Right                       66\n",
            " 3         1 L. Valencia        70 RW            Right                       68\n",
            " 4         1 D. Welbeck         78 ST            Right                       80\n",
            " 5         1 Kim Seung Dae      67 ST            Right                       69\n",
            " 6         1 L. de Sa           68 RW            Right                       74\n",
            " 7         1 O. Damari          67 ST            Left                        69\n",
            " 8         1 L. Clarke          66 ST            Right                       58\n",
            " 9         1 F. Borja           66 ST            Right                       63\n",
            "10         1 Tamudo             67 ST            Right                       62\n",
            "# ℹ 190 more rows\n",
            "# ℹ 2 more variables: passing <dbl>, skill_fk_accuracy <dbl>\n",
            "# ℹ Use `print(n = ...)` to see more rows\n"
          ]
        }
      ],
      "source": [
        "%%R\n",
        "set.seed(1000)\n",
        "single_sample_fifa <- fifa_tidy |>\n",
        "                      rep_sample_n(size = 200)\n",
        "single_sample_fifa"
      ]
    },
    {
      "cell_type": "markdown",
      "metadata": {
        "id": "fBYLRHVWGn77"
      },
      "source": [
        "<h4> Proportion of Left vs Right footed soccer players </h4>"
      ]
    },
    {
      "cell_type": "code",
      "execution_count": null,
      "metadata": {
        "colab": {
          "base_uri": "https://localhost:8080/"
        },
        "id": "MotWz3NEvcB3",
        "outputId": "871a29ee-a607-4f6e-bde1-d5556df9561e"
      },
      "outputs": [
        {
          "output_type": "stream",
          "name": "stdout",
          "text": [
            "# A tibble: 2 × 2\n",
            "  preferred_foot proportion\n",
            "  <chr>               <dbl>\n",
            "1 Left                0.185\n",
            "2 Right               0.815\n"
          ]
        }
      ],
      "source": [
        "%%R\n",
        "player_count <- single_sample_fifa |>\n",
        "                group_by(preferred_foot) |>\n",
        "                summarize(count = n()) |>\n",
        "                mutate(proportion = count / nrow(single_sample_fifa)) |>\n",
        "                select(-count)\n",
        "player_count"
      ]
    },
    {
      "cell_type": "markdown",
      "metadata": {
        "id": "YTF3cZAfH8cr"
      },
      "source": [
        "<h4> Overall Skills for All Attackers </h4>"
      ]
    },
    {
      "cell_type": "code",
      "execution_count": null,
      "metadata": {
        "colab": {
          "base_uri": "https://localhost:8080/"
        },
        "id": "Ct2rm9OX9yun",
        "outputId": "a6efc55b-87c2-4581-c4c2-e989873e0b62"
      },
      "outputs": [
        {
          "output_type": "stream",
          "name": "stdout",
          "text": [
            "# A tibble: 4 × 6\n",
            "  replicate overall skill_dribbling passing skill_fk_accuracy position\n",
            "      <dbl>   <dbl>           <dbl>   <dbl>             <dbl> <chr>   \n",
            "1         1    68.9            72.4    62.8              58.3 LW      \n",
            "2         1    68.2            71      60.3              56.9 RW      \n",
            "3         1    68.2            64.8    55.0              48.3 ST      \n",
            "4         1    78              84      70                66   CF      \n"
          ]
        }
      ],
      "source": [
        "%%R\n",
        "\n",
        "stats_pos <- function(pos) {\n",
        "    stats <- single_sample_fifa |>\n",
        "            filter(team_position == pos) |>\n",
        "            select(-short_name, -preferred_foot, -team_position) |>\n",
        "            map_df(mean, na.rm = TRUE) |>\n",
        "            mutate(position = c(pos))\n",
        "    return (stats)\n",
        "}\n",
        "\n",
        "average_stats_lw <- stats_pos(\"LW\")\n",
        "\n",
        "average_stats_rw <- stats_pos(\"RW\")\n",
        "\n",
        "average_stats_st <- stats_pos(\"ST\")\n",
        "\n",
        "average_stats_cf <- stats_pos(\"CF\")\n",
        "\n",
        "combined_stats <- bind_rows(average_stats_lw, average_stats_rw, average_stats_st, average_stats_cf)\n",
        "combined_stats"
      ]
    },
    {
      "cell_type": "markdown",
      "metadata": {
        "id": "adg1v-fzICBN"
      },
      "source": [
        "<h4> Overall Rating for Left vs Right Attackers </h4>"
      ]
    },
    {
      "cell_type": "code",
      "execution_count": null,
      "metadata": {
        "colab": {
          "base_uri": "https://localhost:8080/"
        },
        "id": "0Z7V5kmJ-dKQ",
        "outputId": "ce3a0776-16ff-42a2-892c-793a95b65d0a"
      },
      "outputs": [
        {
          "output_type": "stream",
          "name": "stdout",
          "text": [
            "`summarise()` has grouped output by 'preferred_foot'. You can override using\n",
            "the `.groups` argument.\n",
            "# A tibble: 7 × 3\n",
            "# Groups:   preferred_foot [2]\n",
            "  preferred_foot team_position skill_score\n",
            "  <chr>          <chr>               <dbl>\n",
            "1 Left           LW                   192.\n",
            "2 Left           RW                   207.\n",
            "3 Left           ST                   170.\n",
            "4 Right          CF                   220 \n",
            "5 Right          LW                   194 \n",
            "6 Right          RW                   183.\n",
            "7 Right          ST                   168.\n"
          ]
        }
      ],
      "source": [
        "%%R\n",
        "each_foot_stats <- single_sample_fifa |>\n",
        "              select(-short_name, -overall) |>\n",
        "              group_by(preferred_foot, team_position) |>\n",
        "              summarize(skill_score = mean(passing+skill_fk_accuracy+skill_dribbling))\n",
        "\n",
        "each_foot_stats"
      ]
    },
    {
      "cell_type": "markdown",
      "metadata": {
        "id": "8lfAB5HbII3-"
      },
      "source": [
        "<h4> Best Left vs Right Attackers </h4>"
      ]
    },
    {
      "cell_type": "code",
      "execution_count": null,
      "metadata": {
        "colab": {
          "base_uri": "https://localhost:8080/"
        },
        "id": "mnEQxjiXG81R",
        "outputId": "5baadab2-61ca-424b-ff3a-f519d7923ee7"
      },
      "outputs": [
        {
          "output_type": "stream",
          "name": "stdout",
          "text": [
            "Adding missing grouping variables: `replicate`\n",
            "Adding missing grouping variables: `replicate`\n",
            "# A tibble: 2 × 4\n",
            "# Groups:   replicate [1]\n",
            "  replicate short_name preferred_foot overall\n",
            "      <int> <chr>      <chr>            <dbl>\n",
            "1         1 S. Agüero  Right               86\n",
            "2         1 G. Bale    Left                87\n"
          ]
        }
      ],
      "source": [
        "%%R\n",
        "select_best <- function(pf) {\n",
        "    best_foot <- single_sample_fifa |>\n",
        "                 select(short_name, preferred_foot, overall) |>\n",
        "                  filter(preferred_foot == pf)\n",
        "    return (best_foot)\n",
        "}\n",
        "# selecting the best right-footed player\n",
        "best_right <- select_best(\"Right\") |>\n",
        "              filter(overall == max(overall))\n",
        "# selecting the best left-footed player\n",
        "best_left <- select_best(\"Left\") |>\n",
        "              filter(overall == max(overall))\n",
        "\n",
        "rbind(best_right, best_left)"
      ]
    },
    {
      "cell_type": "markdown",
      "metadata": {
        "id": "8MNw6iI4IOeR"
      },
      "source": [
        "<h4> Left vs Right Player Skills Table (Estimate of the parameter) </h4>"
      ]
    },
    {
      "cell_type": "code",
      "execution_count": null,
      "metadata": {
        "colab": {
          "base_uri": "https://localhost:8080/"
        },
        "id": "d8zebx0mRLqy",
        "outputId": "bd18c10e-f96a-46d8-d8ae-653d8f9f34c9"
      },
      "outputs": [
        {
          "output_type": "stream",
          "name": "stdout",
          "text": [
            "Adding missing grouping variables: `replicate`\n",
            "# A tibble: 13 × 3\n",
            "   `Skill Statistics`        Left  Right\n",
            "   <chr>                    <dbl>  <dbl>\n",
            " 1 avg_passing              59.9   56.9 \n",
            " 2 avg_shooting             57.2   50.5 \n",
            " 3 avg_dribbling            68.5   67.2 \n",
            " 4 sd_passing                9.58   8.93\n",
            " 5 sd_shooting              13.7   13.3 \n",
            " 6 sd_dribbling              9.04   7.67\n",
            " 7 median_passing           60     58   \n",
            " 8 median_shooting          58     49   \n",
            " 9 median_dribbling         70     68   \n",
            "10 upper_quantile_passing   64     63   \n",
            "11 upper_quantile_shooting  64     60   \n",
            "12 upper_quantile_dribbling 73     72   \n",
            "13 n                        37    163   \n"
          ]
        }
      ],
      "source": [
        "%%R\n",
        "#point estimate\n",
        "diff_left_right <- single_sample_fifa |>\n",
        "                   select(preferred_foot, passing,skill_fk_accuracy,skill_dribbling) |>\n",
        "                   group_by(preferred_foot) |>\n",
        "                   summarize(avg_passing = mean(passing),\n",
        "                             avg_shooting = mean(skill_fk_accuracy),\n",
        "                             avg_dribbling = mean(skill_dribbling),\n",
        "                             sd_passing = sd(passing),\n",
        "                             sd_shooting = sd(skill_fk_accuracy),\n",
        "                             sd_dribbling = sd(skill_dribbling),\n",
        "                             median_passing = median(passing),\n",
        "                             median_shooting = median(skill_fk_accuracy),\n",
        "                             median_dribbling = median(skill_dribbling),\n",
        "                             upper_quantile_passing = quantile(passing, 0.75),\n",
        "                             upper_quantile_shooting = quantile(skill_fk_accuracy, 0.75),\n",
        "                             upper_quantile_dribbling = quantile(skill_dribbling, 0.75),\n",
        "                             n = n()\n",
        "                             ) |>\n",
        "                      pivot_longer(cols=c(-preferred_foot), names_to = \"Skill Statistics\", values_to = \"Value\") |>\n",
        "                      pivot_wider(names_from = preferred_foot, values_from = c(Value))\n",
        "\n",
        "diff_left_right"
      ]
    },
    {
      "cell_type": "markdown",
      "metadata": {
        "id": "43DiR714JLph"
      },
      "source": [
        "# <h4> Plot addressing the question </h4>"
      ]
    },
    {
      "cell_type": "code",
      "execution_count": null,
      "metadata": {
        "colab": {
          "base_uri": "https://localhost:8080/",
          "height": 515
        },
        "id": "iFnPwUhjWpOm",
        "outputId": "371f1c46-3b7d-4077-a5e8-01e6301dd872"
      },
      "outputs": [
        {
          "output_type": "stream",
          "name": "stdout",
          "text": [
            "Adding missing grouping variables: `replicate`\n"
          ]
        },
        {
          "output_type": "display_data",
          "data": {
            "image/png": "[encoded data removed]"
          },
          "metadata": {}
        }
      ],
      "source": [
        "#plot of players\n",
        "%%R\n",
        "stats_data_parsed = single_sample_fifa |>\n",
        "              mutate(shooting_accuracy = skill_fk_accuracy,\n",
        "                     dribbling_skills = skill_dribbling,\n",
        "                     passing_skills = passing) |>\n",
        "              select(preferred_foot, shooting_accuracy, dribbling_skills, passing_skills) |>\n",
        "              pivot_longer(cols=c(-replicate, -preferred_foot), names_to = \"stat\", values_to = \"values\")\n",
        "mean_data_parsed = single_sample_fifa |> group_by(preferred_foot) |>\n",
        "              summarize(shooting_accuracy = mean(skill_fk_accuracy),\n",
        "                     dribbling_skills = mean(skill_dribbling),\n",
        "                     passing_skills = mean(passing)) |>\n",
        "              select(preferred_foot, shooting_accuracy, dribbling_skills, passing_skills) |>\n",
        "              pivot_longer(cols=c(-preferred_foot), names_to = \"stat\", values_to = \"values\")\n",
        "stats_plot <- stats_data_parsed |>\n",
        "              ggplot() +\n",
        "              geom_histogram(aes(x = values, fill=preferred_foot), bins = 10, alpha = 0.5) +\n",
        "              geom_vline(aes(xintercept = values, colour = preferred_foot), data = mean_data_parsed |> group_by(stat)) +\n",
        "               facet_wrap(vars(stat), scales = \"free\", labeller = as_labeller(c(dribbling_skills = \"Dribbling Skills\", shooting_accuracy = \"Shooting Accuracy\", passing_skills = \"Passing Skills\"))) +\n",
        "              labs(x = \"Skill Score\", fill = \"Preferred Foot\", colour = \"Preferred Foot\", title = \"Distribution of skill factors for LEFT vs RIGHT footed players\")\n",
        "\n",
        "\n",
        "stats_plot"
      ]
    },
    {
      "cell_type": "code",
      "execution_count": null,
      "metadata": {
        "colab": {
          "base_uri": "https://localhost:8080/",
          "height": 497
        },
        "id": "21rchQY2Ltio",
        "outputId": "c32cecc2-29b1-4632-ec8b-1e8e5e69412b"
      },
      "outputs": [
        {
          "output_type": "display_data",
          "data": {
            "image/png": "[encoded data removed]"
          },
          "metadata": {}
        }
      ],
      "source": [
        "%%R\n",
        "stats_boxplot <- stats_data_parsed |>\n",
        "              ggplot() +\n",
        "              geom_boxplot(aes(x = preferred_foot, y=values, fill = preferred_foot)) +\n",
        "              facet_wrap(vars(stat), scales = \"free\", labeller = as_labeller(c(dribbling_skills = \"Dribbling Skills\", shooting_accuracy = \"Shooting Accuracy\", passing_skills = \"Passing Skills\"))) +\n",
        "              labs(x = \"Preferred Foot\", y = \"Skill Score\", fill = \"Preferred Foot\", title = \"Skill comparison for LEFT vs RIGHT footed players\")\n",
        "stats_boxplot"
      ]
    },
    {
      "cell_type": "markdown",
      "metadata": {
        "id": "viRdT94aeEDU"
      },
      "source": [
        "The above plots help visualize the point estimate that we will use to make the conclusion to our inferential question about performances of left-footed and right-footed players.\n",
        "\n",
        "Seeing the skills of left-footed and right-footed players roughly overlap in the histogram suggests that the difference in skill factors between the ```preferred_foot``` are not clear on a visible scale, however we do see the average of the left-foot skill score being consistently higher across the different skillsets by a small amount.\n",
        "\n",
        "The non-overlapping part in each of the histograms allows us to assume that the dominant foot of players DOES affect their performance, but we need more evidence to determine whether it is a significant difference.\n",
        "\n",
        "In order to verify this assumption, we need more evidence to either support or reject the claim. It is also wise to take into account the difference in number of observations in left and right foot players.\n",
        "\n",
        "The boxplot also shows that left players have a higher median but we cannot confidently conclude that majority of left-footed players are better due to the spread."
      ]
    },
    {
      "cell_type": "markdown",
      "metadata": {
        "id": "8qZ2Db4eaoZQ"
      },
      "source": [
        "<h2> 3. Methods: Plan </h2>\n",
        "\n"
      ]
    },
    {
      "cell_type": "markdown",
      "metadata": {
        "id": "PUu_lfMzxv4s"
      },
      "source": [
        "The report of the preliminary results is trustworthy as the sample is taken randomly, with an effective size (> 30 for the CLT assumptions to be satisfied) and representative of the population with proportional number of left-footed and right-footed soccer players. Hence, the analysis of the sample, as well as its visualization are good estimates that there could be a correlation between ```preferred_foot``` and the performances of each player.\n",
        "\n",
        "However, the preliminary results are not reliable enough to support the claim. While the sample is representative and could possibly make a plausible estimation, we have no evidence how much standard error and sampling variation the population distribution has. Hence, there is a decent chance that the 200 observations in the sample could have many outliers that deviates from the parameter. Moreover, in real life scenarios, the stakeholder ideally would need extremely reliable values derived from the inferences that we are making. Hence, giving them a single estimator would not be ideal. From the preliminary results, we have not supported our estimation with confidence interval or hypothesis testing to see if the differences between left and right footed players' performances are truly different. Therefore, we would need to present a RANGE of values along with tests.\n",
        "\n",
        "To overcome this issue, our solution is as follows:\n",
        "**Plan:**\n",
        "1. Use bootstrapping to resample from the original sample to create 3 different bootstrap distribution of the **mean** difference between each of the 3 skill sets: passing, shooting and dribbling abilities which indicate the ideal strengths as an attacker.\n",
        "\n",
        "  **Asymptotics/CLT Method:** We will use both Bootstrapping from resamples and the CLT method to create a confidence interval, compare and contrast their charactersitics and produce plausible range of values of mean differences of\n",
        "```skill_dribbling ```,\n",
        "```passing```,\n",
        "```skill_fk_accuracy```\n",
        "for left and right footed players using CI. We will also generalize limitations & advantages for each methods.\n",
        "\n",
        "2. From the bootstraps, we will create 3 confidence intervals for each distributions so that we do not present a single estimate for a stakeholder but a plausible range of values with varying degrees of confidence.\n",
        "\n",
        "3. Compare and contrast the confidence intervals from each methods and list some key properties of each methods.\n",
        "\n",
        "3. Conduct two-sample T-test for each skill mean differences as well as one-sample t-test for standard deviation for left-foot and right-foot players to see if our claim regarding ```preferred_foot``` affecting the players' performances hold true. We will set the significance level at 0.05. This threshold is stringent enough to limit the probability of a Type I error (falsely claiming a significant difference when there is none) to a reasonably low level, thus enhancing the reliability of our conclusions. A p-value lower than 0.05 will be required to reject the null hypothesis in favour of the alternative, suggesting a statistically significant difference between the performances of left and right footed players. This is to practically ensure that the differences are statistically significant and can occur. Specifically, since we are conducting this report in a **realistic** situation and assuming that we do not know the sigma, we can use the two-sample t-test with a decent level of degree of freedom to test that the mean differences exist. We do not need to rely completely on CLT since our distribution is normal.\n",
        "\n",
        "4. Plot visualizations for the 3 hypothesis tests above and summarize the statistics to derive a meaningful conclusion. Finally, list which steps clearly show the differences between left-footed and right-footed players.\n",
        "\n",
        "\n",
        "---\n",
        "\n"
      ]
    },
    {
      "cell_type": "markdown",
      "metadata": {
        "id": "_jJXg3Ehwq90"
      },
      "source": [
        "<h3> Expected Findings </h3>\n",
        "Through this report, we expect to find that the skill difference between left-footed and right-footed players really exists.\n",
        "With the sport being mostly dominated by right-footed players, left-footed players have been difficult to play against for defenders. Hence, left-footed players usually have very high passing and playmaking skills as attackers. There are many right-footed players however, who are consistent at scoring such as Ronaldo. These facts gives us a good expectations of the differences between the explanatory variable and is hoped to be proven. We also expect to create well-constructed visualizations of confidence intervals, hypothesis testing as well as other outputs from different tests that clearly come to a consensus towards the inferential question.\n",
        "\n",
        "<h3> Impact </h3>\n",
        "Finding the answer to the inferential question regarding the skills and behavioural patterns of players will have a signficant impact towards the competitive Soccer community. Soccer games are analyzed and defenders are told to strategically mark and defend the attackers. Hence, finding that left-footed players have strong passing skills while right-footed players have strong dribbling skills compared to left-footed players with sufficient evidence would help the coaches in the Soccer community prepare to defend such attackers (e.g. IF left-footed players are found to be very good at passing, the coach could set up 2 defenders to merge against the left-footed players to prevent passes) which would make the game even more competitive and help develop creative strategies for the teams.\n",
        "\n",
        "<h3> Future Questions </h3>\n",
        "There could be infinitely many questions regarding the analysis of playing styles.\n",
        "Further questions can be regarding:\n",
        "\n",
        "\n",
        "1. Do the differences the playing styles of between left-footed vs right-footed defenders exist?\n",
        "2. Do age, height, weight or even nationality affect the overall ranking across all positions?\n",
        "3. Does taking more samples change the results? What if there were equal proportions of left-footed and right-footed players? Would the results differ in terms of CI and p-value?\n",
        "\n",
        "Moreover, there could be further research questions to see if other variables such as age, height, weight or even nationality affects playing styles."
      ]
    },
    {
      "cell_type": "markdown",
      "metadata": {
        "id": "x7_QnNC7EjV1"
      },
      "source": [
        "## Bootstrap Distributions of Differences in Average Stats"
      ]
    },
    {
      "cell_type": "code",
      "execution_count": null,
      "metadata": {
        "id": "ZW1JDK6QEhk7"
      },
      "outputs": [],
      "source": [
        "%%R\n",
        "\n",
        "bst_samples_passing <- single_sample_fifa |>\n",
        "                specify(formula = passing ~ preferred_foot) |>\n",
        "                generate(reps = 2000, type = \"bootstrap\") |>\n",
        "    calculate(stat = \"diff in means\", order = c(\"Right\", \"Left\"))\n",
        "\n",
        "bst_samples_dribbling <- single_sample_fifa |>\n",
        "                specify(formula = skill_dribbling ~ preferred_foot) |>\n",
        "                generate(reps = 2000, type = \"bootstrap\") |>\n",
        "                calculate(stat = \"diff in means\", order = c(\"Right\", \"Left\"))\n",
        "\n",
        "bst_samples_shooting <- single_sample_fifa |>\n",
        "            specify(formula = skill_fk_accuracy ~ preferred_foot) |>\n",
        "            generate(reps = 2000, type = \"bootstrap\") |>\n",
        "            calculate(stat = \"diff in means\", order = c(\"Right\", \"Left\"))\n",
        "\n",
        "\n",
        "# bootstrap_stats_per_foot <- bst_samples %>%\n",
        "#     group_by(replicate...1, preferred_foot) %>%\n",
        "#     summarise(avg_dribbling = mean(skill_dribbling),\n",
        "#            avg_passing = mean(passing),\n",
        "#            avg_fk_accuracy = mean(skill_fk_accuracy)) %>%\n",
        "#     pivot_longer(cols=c(-preferred_foot, -replicate...1), names_to = \"skill_stats\", values_to = \"Value\") %>%\n",
        "#     pivot_wider(names_from = preferred_foot, values_from = c(Value))\n",
        "\n",
        "# mean_LR_diff <- bootstrap_stats_per_foot %>%\n",
        "#     mutate(lr_diff = Right - Left) %>%\n",
        "#     group_by(skill_stats) %>%\n",
        "#     mutate(mean_lr_diff = mean(Right)-mean(Left)) %>%\n",
        "#     select(-Left, -Right)"
      ]
    },
    {
      "cell_type": "code",
      "execution_count": null,
      "metadata": {
        "colab": {
          "base_uri": "https://localhost:8080/",
          "height": 1000
        },
        "id": "8pZGtXZLFOe3",
        "outputId": "f13a6567-1e7d-4174-8a54-8ede63989fee"
      },
      "outputs": [
        {
          "output_type": "stream",
          "name": "stdout",
          "text": [
            "`stat_bin()` using `bins = 30`. Pick better value with `binwidth`.\n",
            "`stat_bin()` using `bins = 30`. Pick better value with `binwidth`.\n",
            "`stat_bin()` using `bins = 30`. Pick better value with `binwidth`.\n"
          ]
        },
        {
          "output_type": "display_data",
          "data": {
            "image/png": "[encoded data removed]"
          },
          "metadata": {}
        },
        {
          "output_type": "display_data",
          "data": {
            "image/png": "[encoded data removed]"
          },
          "metadata": {}
        },
        {
          "output_type": "display_data",
          "data": {
            "image/png": "[encoded data removed]"
          },
          "metadata": {}
        }
      ],
      "source": [
        "\n",
        "%%R\n",
        "\n",
        "# Mean Left-Right Difference PLOTS\n",
        "\n",
        "LR_diff_dribbling <- bst_samples_dribbling %>%\n",
        "    ggplot() +\n",
        "    geom_histogram(aes(x = stat)) +\n",
        "    geom_vline(xintercept = mean(bst_samples_dribbling$stat), color = \"red\") +\n",
        "    labs(x = \"Dribbling Skill Difference\", title = \"Dribbling Skill Difference between right- and left-footed players\")\n",
        "print(LR_diff_dribbling)\n",
        "\n",
        "LR_diff_passing <- bst_samples_passing %>%\n",
        "    ggplot() +\n",
        "    geom_histogram(aes(x = stat)) +\n",
        "    geom_vline(xintercept = mean(bst_samples_passing$stat), color = \"red\") +\n",
        "    labs(x = \"Passing Skill Difference\", title = \"Passing Skill Difference between right- and left-footed players\")\n",
        "print(LR_diff_passing)\n",
        "\n",
        "LR_diff_shooting <- bst_samples_shooting %>%\n",
        "    ggplot() +\n",
        "    geom_histogram(aes(x = stat)) +\n",
        "    geom_vline(xintercept = mean(bst_samples_shooting$stat), color = \"red\") +\n",
        "    labs(x = \"Shooting Skill Difference\", title = \"Shooting Skill Difference between right- and left-footed players\")\n",
        "print(LR_diff_shooting)"
      ]
    },
    {
      "cell_type": "code",
      "execution_count": null,
      "metadata": {
        "id": "KU6rGp_TUrO4"
      },
      "outputs": [],
      "source": [
        "%%R\n",
        "#Asymptotics\n",
        "\n",
        "clt_sample <- diff_left_right |>\n",
        "              pivot_wider(names_from = \"Skill Statistics\", values_from=c(Left, Right)) |>\n",
        "              mutate(mean_passing_diff = Right_avg_passing - Left_avg_passing,\n",
        "                     mean_shooting_diff = Right_avg_shooting - Left_avg_shooting,\n",
        "                     mean_dribbling_diff = Right_avg_dribbling - Left_avg_dribbling,\n",
        "                     se_passing = sqrt(Left_sd_passing^2/Left_n + Right_sd_passing^2/Right_n),\n",
        "                     se_dribbling = sqrt(Left_sd_dribbling^2/Left_n + Right_sd_dribbling^2/Right_n),\n",
        "                     se_shooting = sqrt(Left_sd_shooting^2/Left_n + Right_sd_shooting^2/Right_n)\n",
        "                     ) |>\n",
        "              select(mean_passing_diff, mean_shooting_diff,mean_dribbling_diff,se_passing,\n",
        "                     se_dribbling, se_shooting)\n",
        "\n",
        "\n",
        "clt_sample\n",
        "\n",
        "clt_passing <- tibble(x = seq(clt_sample$mean_passing_diff - 4 * clt_sample$se_passing,\n",
        "                                        clt_sample$mean_passing_diff + 4 * clt_sample$se_passing,\n",
        "                                        0.0001),\n",
        "                                density = dnorm(x, clt_sample$mean_passing_diff, clt_sample$se_passing))\n",
        "\n",
        "\n",
        "clt_shooting <- tibble(x = seq(clt_sample$mean_shooting_diff - 4 * clt_sample$se_shooting,\n",
        "                                        clt_sample$mean_shooting_diff + 4 * clt_sample$se_shooting,\n",
        "                                        0.0001),\n",
        "                                density = dnorm(x, clt_sample$mean_shooting_diff, clt_sample$se_shooting))\n",
        "\n",
        "clt_dribbling <- tibble(x = seq(clt_sample$mean_dribbling_diff - 4 * clt_sample$se_dribbling,\n",
        "                                        clt_sample$mean_dribbling_diff + 4 * clt_sample$se_dribbling,\n",
        "                                        0.0001),\n",
        "                                density = dnorm(x, clt_sample$mean_dribbling_diff, clt_sample$se_dribbling))"
      ]
    },
    {
      "cell_type": "code",
      "execution_count": null,
      "metadata": {
        "id": "Cyf_xwu2ldyL"
      },
      "outputs": [],
      "source": [
        "%%R\n",
        "\n",
        "clt_vs_bootstrap_passing <-\n",
        "    bst_samples_passing %>%\n",
        "    ggplot() +\n",
        "    geom_histogram(aes(x = stat, y = ..density..),bins = 20, color=\"white\") +\n",
        "    xlab(\"Mean differences in Passing skills\") +\n",
        "    ggtitle(\"CLT vs Bootstrap distribution for mean differences in Passing skills (n=200)\") +\n",
        "    geom_line(data = clt_passing, aes(x, density), color = \"red\", lwd = 2)"
      ]
    },
    {
      "cell_type": "code",
      "execution_count": null,
      "metadata": {
        "id": "AqCxQHu9lerQ"
      },
      "outputs": [],
      "source": [
        "%%R\n",
        "\n",
        "clt_vs_bootstrap_dribbling <-\n",
        "    bst_samples_dribbling %>%\n",
        "    ggplot() +\n",
        "    geom_histogram(aes(x = stat, y = ..density..),bins = 20, color=\"white\") +\n",
        "    xlab(\"Mean differences in Dribbling skills\") +\n",
        "    ggtitle(\"CLT vs Bootstrap distribution for mean differences in Dribbling skills (n=200)\") +\n",
        "    geom_line(data = clt_dribbling, aes(x, density), color = \"red\", lwd = 2)"
      ]
    },
    {
      "cell_type": "code",
      "execution_count": null,
      "metadata": {
        "id": "kLgx73RAlfJ7"
      },
      "outputs": [],
      "source": [
        "%%R\n",
        "\n",
        "clt_vs_bootstrap_shooting <-\n",
        "    bst_samples_shooting %>%\n",
        "    ggplot() +\n",
        "    geom_histogram(aes(x = stat, y = ..density..),bins = 20, color=\"white\") +\n",
        "    xlab(\"Mean differences in Shooting skills\") +\n",
        "    ggtitle(\"CLT vs Bootstrap distribution for mean differences in Shooting skills (n=200)\") +\n",
        "    geom_line(data = clt_shooting, aes(x, density), color = \"red\", lwd = 2)"
      ]
    },
    {
      "cell_type": "code",
      "execution_count": null,
      "metadata": {
        "id": "6teXYJ1Mm53S"
      },
      "outputs": [],
      "source": [
        "%%R\n",
        "#CI for CLT and Bootstrap\n",
        "\n",
        "ci_passing <- bst_samples_passing |>\n",
        "              get_ci(level = 0.95, type = \"percentile\")\n",
        "\n",
        "ci_shooting <- bst_samples_shooting |>\n",
        "              get_ci(level = 0.95, type = \"percentile\")\n",
        "\n",
        "ci_dribbling <- bst_samples_dribbling |>\n",
        "              get_ci(level = 0.95, type = \"percentile\")"
      ]
    },
    {
      "cell_type": "code",
      "execution_count": null,
      "metadata": {
        "id": "N2LAC4Fv4VAE"
      },
      "outputs": [],
      "source": [
        "%%R\n",
        "ci_diff_in_passing <-\n",
        "    visualize(bst_samples_passing) +\n",
        "    shade_confidence_interval(endpoints = ci_passing) +\n",
        "    theme(text = element_text(size = 20)) +\n",
        "    labs(x = \"Difference in Means\", y = \"Count\", title = \"\\nPassing Skills\") +\n",
        "    theme_bw() +\n",
        "    theme(axis.text=element_text(size=14),\n",
        "          axis.title=element_text(size=17),\n",
        "          plot.title = element_text(size=20))"
      ]
    },
    {
      "cell_type": "code",
      "execution_count": null,
      "metadata": {
        "id": "OsC0_oeu4dl4"
      },
      "outputs": [],
      "source": [
        "%%R\n",
        "ci_diff_in_shooting <-\n",
        "    visualize(bst_samples_shooting) +\n",
        "    shade_confidence_interval(endpoints = ci_shooting) +\n",
        "    theme(text = element_text(size = 20)) +\n",
        "    labs(x = \"Difference in Means\", y = \"Count\", title = \"\\nShooting Accuracy/Skills\") +\n",
        "    theme_bw() +\n",
        "    theme(axis.text=element_text(size=14),\n",
        "          axis.title=element_text(size=17),\n",
        "          plot.title = element_text(size=20))"
      ]
    },
    {
      "cell_type": "code",
      "execution_count": null,
      "metadata": {
        "id": "BD1CiFwR4d4I"
      },
      "outputs": [],
      "source": [
        "%%R\n",
        "ci_diff_in_dribbling <-\n",
        "    visualize(bst_samples_dribbling) +\n",
        "    shade_confidence_interval(endpoints = ci_dribbling) +\n",
        "    theme(text = element_text(size = 20)) +\n",
        "    labs(x = \"Difference in Means\", y = \"Count\", title = \"\\nDribbling Skills\") +\n",
        "    theme_bw() +\n",
        "    theme(axis.text=element_text(size=14),\n",
        "          axis.title=element_text(size=17),\n",
        "          plot.title = element_text(size=20))"
      ]
    },
    {
      "cell_type": "code",
      "execution_count": null,
      "metadata": {
        "colab": {
          "base_uri": "https://localhost:8080/"
        },
        "id": "ZGWOe0Lt9D5D",
        "outputId": "990e8bf1-2f25-4267-fadc-f5f7291fc45c"
      },
      "outputs": [
        {
          "output_type": "stream",
          "name": "stdout",
          "text": [
            "# A tibble: 6 × 2\n",
            "  `Mean Skill Diff CI`     CLT\n",
            "  <chr>                  <dbl>\n",
            "1 lower_ci_passing      -6.38 \n",
            "2 upper_ci_passing       0.368\n",
            "3 lower_ci_shooting    -11.6  \n",
            "4 upper_ci_shooting     -1.85 \n",
            "5 lower_ci_dribbling    -4.45 \n",
            "6 upper_ci_dribbling     1.84 \n"
          ]
        }
      ],
      "source": [
        "%%R\n",
        "#CI for CLT\n",
        "\n",
        "ci_clt <- clt_sample |>\n",
        "          mutate(lower_ci_passing = mean_passing_diff - qnorm(0.975)*se_passing,\n",
        "                 upper_ci_passing = mean_passing_diff + qnorm(0.975)*se_passing,\n",
        "                 lower_ci_shooting = mean_shooting_diff - qnorm(0.975)*se_shooting,\n",
        "                 upper_ci_shooting = mean_shooting_diff + qnorm(0.975)*se_shooting,\n",
        "                 lower_ci_dribbling = mean_dribbling_diff - qnorm(0.975)*se_dribbling,\n",
        "                 upper_ci_dribbling = mean_dribbling_diff + qnorm(0.975)*se_dribbling,\n",
        "                 ) |>\n",
        "          select(lower_ci_passing, upper_ci_passing, lower_ci_shooting,\n",
        "                                upper_ci_shooting, lower_ci_dribbling, upper_ci_dribbling) |>\n",
        "          pivot_longer(cols = c(lower_ci_passing, upper_ci_passing, lower_ci_shooting,\n",
        "                                upper_ci_shooting, lower_ci_dribbling, upper_ci_dribbling), names_to = \"Mean Skill Diff CI\", values_to = \"CLT\")\n",
        "ci_clt"
      ]
    },
    {
      "cell_type": "code",
      "execution_count": null,
      "metadata": {
        "colab": {
          "base_uri": "https://localhost:8080/"
        },
        "id": "Xx_faMRZFG_-",
        "outputId": "5d023d79-b37d-4952-a304-4ccf5c2026f7"
      },
      "outputs": [
        {
          "output_type": "stream",
          "name": "stdout",
          "text": [
            "  Mean Skill Diff CI         CLT   Bootstrap\n",
            "1   lower_ci_passing  -6.3848253  -6.4799683\n",
            "2   upper_ci_passing   0.3679127   0.4285887\n",
            "3  lower_ci_shooting -11.6043112 -11.6890253\n",
            "4  upper_ci_shooting  -1.8515004  -1.7809035\n",
            "5 lower_ci_dribbling  -4.4476102  -4.4208754\n",
            "6 upper_ci_dribbling   1.8354397   2.0075316\n"
          ]
        }
      ],
      "source": [
        "%%R\n",
        "#comparison\n",
        "bootstrap_ci <- rbind(ci_passing, ci_shooting, ci_dribbling) |>\n",
        "                pivot_longer(cols = c(lower_ci, upper_ci), names_to = \"Mean Skill Diff CI\", values_to = \"Bootstrap\") |>\n",
        "                select(c(\"Bootstrap\"))\n",
        "\n",
        "cbind(ci_clt, bootstrap_ci)\n",
        "\n"
      ]
    },
    {
      "cell_type": "markdown",
      "source": [
        "Given these confidence intervals, only when it comes to shooting skill does the preferred foot really make a significant difference. We can say that because for a null hypothesis where the expected mean difference is 0, and the confidence interval for shooting is between -11.6 and -1.85, which means  the mean difference couldn't possibly be 0 within this confidence interval. In this case, since the difference is negative the results show that on average left-footed players have a higher success rate at shooting than right-footed players do (since the difference is calculated by right-left). The other two skills, passing and dribbling, are less likely to be impacted by which foot the player prefers, since the confidence interval overlaps with the expected mean difference under the null hypothesis, 0. Passing, however, just barely reaches zero, so more tests, such the t-test need to be done to determine whether there is a significant difference in success with different preferred feet at our confidence level."
      ],
      "metadata": {
        "id": "5xQJCRTWpqu8"
      }
    },
    {
      "cell_type": "code",
      "execution_count": null,
      "metadata": {
        "id": "wjkwB09J63bt",
        "colab": {
          "base_uri": "https://localhost:8080/"
        },
        "outputId": "be2050c7-4be8-41f1-d92b-0d11787b3399"
      },
      "outputs": [
        {
          "output_type": "stream",
          "name": "stdout",
          "text": [
            "# A tibble: 3 × 5\n",
            "  response                     estimate p.value conf.low conf.high\n",
            "  <chr>                           <dbl>   <dbl>    <dbl>     <dbl>\n",
            "1 Passing Skills Difference       -3.01 0.0867     -6.47     0.450\n",
            "2 Dribbling Skills Difference     -1.31 0.419      -4.53     1.92 \n",
            "3 Shooting Accuracy Difference    -6.73 0.00921   -11.7     -1.74 \n"
          ]
        }
      ],
      "source": [
        "%%R\n",
        "#two-sample t-test\n",
        "\n",
        "left_players <- single_sample_fifa |>\n",
        "                filter(preferred_foot == \"Left\")\n",
        "\n",
        "right_players <- single_sample_fifa |>\n",
        "                 filter(preferred_foot == \"Right\")\n",
        "\n",
        "t_test <- function(a,b,c) {\n",
        "    return (\n",
        "        broom::tidy(t.test(x = a,\n",
        "               y = b,\n",
        "               alternative = \"two.sided\",\n",
        "               paired = FALSE)) |>\n",
        "        mutate(response = c)\n",
        "    )\n",
        "}\n",
        "\n",
        "t_test_results <- rbind(t_test(right_players$passing, left_players$passing, \"Passing Skills Difference\"),\n",
        "                        t_test(right_players$skill_dribbling, left_players$skill_dribbling, \"Dribbling Skills Difference\"),\n",
        "                        t_test(right_players$skill_fk_accuracy, left_players$skill_fk_accuracy, \"Shooting Accuracy Difference\")) |>\n",
        "                  select(response, estimate, p.value, conf.low, conf.high)\n",
        "\n",
        "t_test_results"
      ]
    },
    {
      "cell_type": "code",
      "source": [
        "%%R\n",
        "#Visualizing two-sample t-test\n",
        "\n",
        "#test statistics\n",
        "\n",
        "passing_obs_diff <- mean(bst_samples_passing$stat)\n",
        "\n",
        "dribbling_obs_diff <- mean(bst_samples_dribbling$stat)\n",
        "\n",
        "shooting_obs_diff <- mean(bst_samples_shooting$stat)"
      ],
      "metadata": {
        "id": "atUFt0rCc4Ot"
      },
      "execution_count": null,
      "outputs": []
    },
    {
      "cell_type": "code",
      "source": [
        "%%R\n",
        "#Create null distributions\n",
        "\n",
        "null_model_passing <-\n",
        "   single_sample_fifa %>%\n",
        "   specify(formula = passing ~ preferred_foot) %>%\n",
        "   hypothesise(null = \"independence\", mu = 0) %>%\n",
        "   generate(type = \"permute\", reps = 2000) %>%\n",
        "   calculate(stat = \"diff in means\", order = c(\"Right\", \"Left\"))\n",
        "\n",
        "null_model_dribbling <-\n",
        "   single_sample_fifa %>%\n",
        "   specify(formula = skill_dribbling ~ preferred_foot) %>%\n",
        "   hypothesise(null = \"independence\", mu = 0) %>%\n",
        "   generate(type = \"permute\", reps = 2000) %>%\n",
        "   calculate(stat = \"diff in means\", order = c(\"Right\", \"Left\"))\n",
        "\n",
        "null_model_shooting <-\n",
        "   single_sample_fifa %>%\n",
        "   specify(formula = skill_fk_accuracy ~ preferred_foot) %>%\n",
        "   hypothesise(null = \"independence\", mu = 0) %>%\n",
        "   generate(type = \"permute\", reps = 2000) %>%\n",
        "   calculate(stat = \"diff in means\", order = c(\"Right\", \"Left\"))"
      ],
      "metadata": {
        "id": "PjgmmQRUitiT"
      },
      "execution_count": null,
      "outputs": []
    },
    {
      "cell_type": "code",
      "source": [
        "%%R\n",
        "null_passing_vis <- null_model_passing |>\n",
        "                    visualize(bins = 10) +\n",
        "                    shade_p_value(obs_stat = passing_obs_diff, direction = \"both\") +\n",
        "                    xlab(\"Mean Passing skill difference\") +\n",
        "                    ylab(\"Player count\") +\n",
        "                    ggtitle(\"Null distribution of Passing skill rating difference between Left vs Right foot players\") +\n",
        "                    theme(text = element_text(size=10))\n",
        "\n",
        "null_passing_vis"
      ],
      "metadata": {
        "colab": {
          "base_uri": "https://localhost:8080/",
          "height": 497
        },
        "id": "s6zO11qKmrXG",
        "outputId": "4c1b577f-8aa2-4878-8f51-b58044918082"
      },
      "execution_count": null,
      "outputs": [
        {
          "output_type": "display_data",
          "data": {
            "image/png": "[encoded data removed]"
          },
          "metadata": {}
        }
      ]
    },
    {
      "cell_type": "code",
      "source": [
        "%%R\n",
        "null_dribbling_vis <- null_model_dribbling |>\n",
        "                    visualize(bins = 10) +\n",
        "                    shade_p_value(obs_stat = dribbling_obs_diff, direction = \"both\") +\n",
        "                    xlab(\"Mean Dribbling skill difference\") +\n",
        "                    ylab(\"Player count\") +\n",
        "                    ggtitle(\"Null distribution of Dribbling skill rating difference between Left vs Right foot players\") +\n",
        "                    theme(text = element_text(size=10))\n",
        "\n",
        "null_dribbling_vis"
      ],
      "metadata": {
        "colab": {
          "base_uri": "https://localhost:8080/",
          "height": 497
        },
        "id": "981aihyKnKsw",
        "outputId": "fe07670d-025f-4637-e144-86635e04bd09"
      },
      "execution_count": null,
      "outputs": [
        {
          "output_type": "display_data",
          "data": {
            "image/png": "[encoded data removed]"
          },
          "metadata": {}
        }
      ]
    },
    {
      "cell_type": "code",
      "source": [
        "%%R\n",
        "null_shooting_vis <- null_model_shooting |>\n",
        "                    visualize(bins = 10) +\n",
        "                    shade_p_value(obs_stat = shooting_obs_diff, direction = \"both\") +\n",
        "                    xlab(\"Mean Shooting skill difference\") +\n",
        "                    ylab(\"Player count\") +\n",
        "                    ggtitle(\"Null distribution of Shooting skill rating difference between Left vs Right foot players\") +\n",
        "                    theme(text = element_text(size=10))\n",
        "\n",
        "null_shooting_vis"
      ],
      "metadata": {
        "colab": {
          "base_uri": "https://localhost:8080/",
          "height": 497
        },
        "id": "E3WX--QpnMDo",
        "outputId": "fbd1b86d-3025-4c81-cd6a-ef1867745390"
      },
      "execution_count": null,
      "outputs": [
        {
          "output_type": "display_data",
          "data": {
            "image/png": "[encoded data removed]"
          },
          "metadata": {}
        }
      ]
    },
    {
      "cell_type": "markdown",
      "source": [
        "The only p-value that falls below our chosen significance level (a = 0.05) is that of mean shooting skill difference. This means that out of all three skills, only for shooting does the preferred foot of the player have a significant impact on skill. As a result, we would reject the null hypothesis for mean shooting skill difference as it was not equal, and conclude that the alternative hypothesis is true. In this case, we could be making a type I error. For the other two skills, dribbling and passing, we accept the null hypothesis and conclude that there is no significant difference between the skill level of right- and left-footed players because the p-value is greater than the sigificance level. In this case, we might be making a type II error."
      ],
      "metadata": {
        "id": "sPBdIK1833vb"
      }
    },
    {
      "cell_type": "markdown",
      "source": [
        "# Test Using Each Individual Position"
      ],
      "metadata": {
        "id": "pYnAG7dBro5D"
      }
    },
    {
      "cell_type": "markdown",
      "source": [
        "**Dribbling**"
      ],
      "metadata": {
        "id": "zu8mpjQZshhQ"
      }
    },
    {
      "cell_type": "code",
      "source": [
        "%%R\n",
        "left_players <- single_sample_fifa |>\n",
        "                filter(preferred_foot == \"Left\")\n",
        "\n",
        "right_players <- single_sample_fifa |>\n",
        "                 filter(preferred_foot == \"Right\")\n",
        "\n",
        "left_dribbling = left_players |> group_by(team_position) |> summarize(sample_mean_l = mean(skill_dribbling), std_l = sd(skill_dribbling), n_l = n()) |> filter(team_position %in% c(\"LW\", \"RW\", \"ST\"))\n",
        "right_dribbling = right_players |> group_by(team_position) |> summarize(sample_mean_r = mean(skill_dribbling), std_r = sd(skill_dribbling), n_r = n()) |> filter(team_position %in% c(\"LW\", \"RW\", \"ST\"))\n",
        "test_stats = merge(left_dribbling, right_dribbling)  |> mutate(x_bar = sample_mean_r - sample_mean_l, z = x_bar / sqrt(std_r^2 / n_r + std_l^2 / n_l)) |> select(team_position, x_bar, z)\n",
        "test_stats <- test_stats |> mutate(p = pnorm(abs(z), lower.tail = FALSE))\n",
        "test_stats"
      ],
      "metadata": {
        "colab": {
          "base_uri": "https://localhost:8080/"
        },
        "id": "VsGxo-fheGvM",
        "outputId": "8ac218f7-e1ab-4dd3-bd69-b6ae082db8b9"
      },
      "execution_count": null,
      "outputs": [
        {
          "output_type": "stream",
          "name": "stdout",
          "text": [
            "  team_position     x_bar          z           p\n",
            "1            LW  3.575251  1.6911097 0.045407923\n",
            "2            RW -6.219828 -2.6631265 0.003870915\n",
            "3            ST  1.544318  0.6239325 0.266335942\n"
          ]
        }
      ]
    },
    {
      "cell_type": "code",
      "source": [
        "%%R\n",
        "test_stats\n",
        "null_model_dribble_LW <-\n",
        "   single_sample_fifa %>% filter(team_position == \"LW\") |>\n",
        "   specify(formula = skill_dribbling ~ preferred_foot) %>%\n",
        "   hypothesise(null = \"independence\", mu = 0) %>%\n",
        "   generate(type = \"permute\", reps = 2000) %>%\n",
        "   calculate(stat = \"diff in means\", order = c(\"Right\", \"Left\"))\n",
        "\n",
        "null_model_dribble_RW <-\n",
        "   single_sample_fifa %>% filter(team_position == \"RW\") |>\n",
        "   specify(formula = skill_dribbling ~ preferred_foot) %>%\n",
        "   hypothesise(null = \"independence\", mu = 0) %>%\n",
        "   generate(type = \"permute\", reps = 2000) %>%\n",
        "   calculate(stat = \"diff in means\", order = c(\"Right\", \"Left\"))\n",
        "\n",
        "  null_model_dribble_ST <-\n",
        "   single_sample_fifa %>% filter(team_position == \"ST\") |>\n",
        "   specify(formula = skill_dribbling ~ preferred_foot) %>%\n",
        "   hypothesise(null = \"independence\", mu = 0) %>%\n",
        "   generate(type = \"permute\", reps = 2000) %>%\n",
        "   calculate(stat = \"diff in means\", order = c(\"Right\", \"Left\"))\n",
        "\n",
        "null_dribbling_LW <- null_model_dribble_LW |>\n",
        "                    visualize(bins = 10) +\n",
        "                    shade_p_value(obs_stat = (test_stats |> filter(team_position == \"LW\"))$x_bar, direction = \"both\") +\n",
        "                    xlab(\"Mean Dribbling skill difference in LW Position\") +\n",
        "                    ylab(\"Player count\") +\n",
        "                    ggtitle(\"Null distribution of Dribbling skill rating difference between Left vs Right foot LW players\") +\n",
        "                    theme(text = element_text(size=10))\n",
        "\n",
        "null_dribbling_RW <- null_model_dribble_RW |>\n",
        "                    visualize(bins = 10) +\n",
        "                    shade_p_value(obs_stat = (test_stats |> filter(team_position == \"RW\"))$x_bar, direction = \"both\") +\n",
        "                    xlab(\"Mean Dribbling skill difference in RW Position\") +\n",
        "                    ylab(\"Player count\") +\n",
        "                    ggtitle(\"Null distribution of Dribbling skill rating difference between Left vs Right foot RW players\") +\n",
        "                    theme(text = element_text(size=10))\n",
        "\n",
        "null_dribbling_ST <- null_model_dribble_ST |>\n",
        "                    visualize(bins = 10) +\n",
        "                    shade_p_value(obs_stat = (test_stats |> filter(team_position == \"ST\"))$x_bar, direction = \"both\") +\n",
        "                    xlab(\"Mean Dribbling skill difference in ST Position\") +\n",
        "                    ylab(\"Player count\") +\n",
        "                    ggtitle(\"Null distribution of Dribbling skill rating difference between Left vs Right foot ST players\") +\n",
        "                    theme(text = element_text(size=10))"
      ],
      "metadata": {
        "id": "Z-7qvDPenmsG",
        "colab": {
          "base_uri": "https://localhost:8080/"
        },
        "outputId": "41efb01b-41f0-480b-d212-d210bb4752b9"
      },
      "execution_count": null,
      "outputs": [
        {
          "output_type": "stream",
          "name": "stderr",
          "text": [
            "WARNING:rpy2.rinterface_lib.callbacks:R[write to console]: Error in (function (expr, envir = parent.frame(), enclos = if (is.list(envir) ||  : \n",
            "  object 'test_stats' not found\n",
            "\n"
          ]
        },
        {
          "output_type": "stream",
          "name": "stdout",
          "text": [
            "\n",
            "Error in (function (expr, envir = parent.frame(), enclos = if (is.list(envir) ||  : \n",
            "  object 'test_stats' not found\n"
          ]
        }
      ]
    },
    {
      "cell_type": "code",
      "source": [
        "%%R\n",
        "null_dribbling_LW"
      ],
      "metadata": {
        "colab": {
          "base_uri": "https://localhost:8080/",
          "height": 497
        },
        "id": "tKRA3gCDrZTB",
        "outputId": "86f77d4a-bc2a-4a7b-fc74-584d04471df8"
      },
      "execution_count": null,
      "outputs": [
        {
          "output_type": "display_data",
          "data": {
            "image/png": "[encoded data removed]"
          },
          "metadata": {}
        }
      ]
    },
    {
      "cell_type": "code",
      "source": [
        "%%R\n",
        "null_dribbling_RW"
      ],
      "metadata": {
        "colab": {
          "base_uri": "https://localhost:8080/",
          "height": 497
        },
        "id": "9LLR2bAkraj-",
        "outputId": "b33a1af3-8205-4e61-d9e0-5fb4415c5c09"
      },
      "execution_count": null,
      "outputs": [
        {
          "output_type": "display_data",
          "data": {
            "image/png": "[encoded data removed]"
          },
          "metadata": {}
        }
      ]
    },
    {
      "cell_type": "code",
      "source": [
        "%%R\n",
        "null_dribbling_ST"
      ],
      "metadata": {
        "colab": {
          "base_uri": "https://localhost:8080/",
          "height": 497
        },
        "id": "fr2zv46hrcLc",
        "outputId": "b1beadac-758a-40c4-c5a3-189dd22635db"
      },
      "execution_count": null,
      "outputs": [
        {
          "output_type": "display_data",
          "data": {
            "image/png": "[encoded data removed]"
          },
          "metadata": {}
        }
      ]
    },
    {
      "cell_type": "markdown",
      "source": [
        "**Passing**"
      ],
      "metadata": {
        "id": "zX5lKOTMsl4h"
      }
    },
    {
      "cell_type": "code",
      "source": [
        "%%R\n",
        "left_passing = left_players |> group_by(team_position) |> summarize(sample_mean_l = mean(passing), std_l = sd(passing), n_l = n()) |> filter(team_position %in% c(\"LW\", \"RW\", \"ST\"))\n",
        "right_passing = right_players |> group_by(team_position) |> summarize(sample_mean_r = mean(passing), std_r = sd(passing), n_r = n()) |> filter(team_position %in% c(\"LW\", \"RW\", \"ST\"))\n",
        "test_stats = merge(left_passing, right_passing)  |> mutate(x_bar = sample_mean_r - sample_mean_l, z = x_bar / sqrt(std_r^2 / n_r + std_l^2 / n_l)) |> select(team_position, x_bar, z)\n",
        "test_stats <- test_stats |> mutate(p = pnorm(abs(z), lower.tail = FALSE))\n",
        "test_stats"
      ],
      "metadata": {
        "colab": {
          "base_uri": "https://localhost:8080/"
        },
        "id": "bCzIfSpLr7iH",
        "outputId": "798511d6-71cb-4994-b2c6-e110b4d52ed0"
      },
      "execution_count": null,
      "outputs": [
        {
          "output_type": "stream",
          "name": "stderr",
          "text": [
            "WARNING:rpy2.rinterface_lib.callbacks:R[write to console]: Error in (function (expr, envir = parent.frame(), enclos = if (is.list(envir) ||  : \n",
            "  object 'left_players' not found\n",
            "\n"
          ]
        },
        {
          "output_type": "stream",
          "name": "stdout",
          "text": [
            "\n",
            "Error in (function (expr, envir = parent.frame(), enclos = if (is.list(envir) ||  : \n",
            "  object 'left_players' not found\n"
          ]
        }
      ]
    },
    {
      "cell_type": "code",
      "source": [
        "%%R\n",
        "test_stats\n",
        "null_model_passing_LW <-\n",
        "   single_sample_fifa %>% filter(team_position == \"LW\") |>\n",
        "   specify(formula = passing ~ preferred_foot) %>%\n",
        "   hypothesise(null = \"independence\", mu = 0) %>%\n",
        "   generate(type = \"permute\", reps = 2000) %>%\n",
        "   calculate(stat = \"diff in means\", order = c(\"Right\", \"Left\"))\n",
        "\n",
        "null_model_passing_RW <-\n",
        "   single_sample_fifa %>% filter(team_position == \"RW\") |>\n",
        "   specify(formula = passing ~ preferred_foot) %>%\n",
        "   hypothesise(null = \"independence\", mu = 0) %>%\n",
        "   generate(type = \"permute\", reps = 2000) %>%\n",
        "   calculate(stat = \"diff in means\", order = c(\"Right\", \"Left\"))\n",
        "\n",
        "  null_model_passing_ST <-\n",
        "   single_sample_fifa %>% filter(team_position == \"ST\") |>\n",
        "   specify(formula = passing ~ preferred_foot) %>%\n",
        "   hypothesise(null = \"independence\", mu = 0) %>%\n",
        "   generate(type = \"permute\", reps = 2000) %>%\n",
        "   calculate(stat = \"diff in means\", order = c(\"Right\", \"Left\"))\n",
        "\n",
        "null_passing_LW <- null_model_passing_LW |>\n",
        "                    visualize(bins = 10) +\n",
        "                    shade_p_value(obs_stat = (test_stats |> filter(team_position == \"LW\"))$x_bar, direction = \"both\") +\n",
        "                    xlab(\"Mean Passing skill difference in LW Position\") +\n",
        "                    ylab(\"Player count\") +\n",
        "                    ggtitle(\"Null distribution of Passing skill rating difference between Left vs Right foot LW players\") +\n",
        "                    theme(text = element_text(size=10))\n",
        "\n",
        "null_passing_RW <- null_model_passing_RW |>\n",
        "                    visualize(bins = 10) +\n",
        "                    shade_p_value(obs_stat = (test_stats |> filter(team_position == \"RW\"))$x_bar, direction = \"both\") +\n",
        "                    xlab(\"Mean Passing skill difference in RW Position\") +\n",
        "                    ylab(\"Player count\") +\n",
        "                    ggtitle(\"Null distribution of Passing skill rating difference between Left vs Right foot RW players\") +\n",
        "                    theme(text = element_text(size=10))\n",
        "\n",
        "null_passing_ST <- null_model_passing_ST |>\n",
        "                    visualize(bins = 10) +\n",
        "                    shade_p_value(obs_stat = (test_stats |> filter(team_position == \"ST\"))$x_bar, direction = \"both\") +\n",
        "                    xlab(\"Mean Passing skill difference in ST Position\") +\n",
        "                    ylab(\"Player count\") +\n",
        "                    ggtitle(\"Null distribution of Passing skill rating difference between Left vs Right foot ST players\") +\n",
        "                    theme(text = element_text(size=10))"
      ],
      "metadata": {
        "id": "2JqJo8O7suPb",
        "colab": {
          "base_uri": "https://localhost:8080/"
        },
        "outputId": "2da94d96-eba3-4c61-ce55-a674b71c7f4c"
      },
      "execution_count": null,
      "outputs": [
        {
          "output_type": "stream",
          "name": "stderr",
          "text": [
            "WARNING:rpy2.rinterface_lib.callbacks:R[write to console]: Error in (function (expr, envir = parent.frame(), enclos = if (is.list(envir) ||  : \n",
            "  object 'test_stats' not found\n",
            "\n"
          ]
        },
        {
          "output_type": "stream",
          "name": "stdout",
          "text": [
            "\n",
            "Error in (function (expr, envir = parent.frame(), enclos = if (is.list(envir) ||  : \n",
            "  object 'test_stats' not found\n"
          ]
        }
      ]
    },
    {
      "cell_type": "code",
      "source": [
        "%%R\n",
        "null_passing_LW"
      ],
      "metadata": {
        "colab": {
          "base_uri": "https://localhost:8080/",
          "height": 497
        },
        "id": "VX3HwFvCs9aA",
        "outputId": "5dbc31ea-4b32-4402-b6ab-799d5fa7ffee"
      },
      "execution_count": null,
      "outputs": [
        {
          "output_type": "display_data",
          "data": {
            "image/png": "[encoded data removed]"
          },
          "metadata": {}
        }
      ]
    },
    {
      "cell_type": "code",
      "source": [
        "%%R\n",
        "null_passing_RW"
      ],
      "metadata": {
        "colab": {
          "base_uri": "https://localhost:8080/",
          "height": 497
        },
        "id": "yAeOYtQZtF0b",
        "outputId": "cc0e0971-bcec-46ad-9b23-6c7e177710a4"
      },
      "execution_count": null,
      "outputs": [
        {
          "output_type": "display_data",
          "data": {
            "image/png": "[encoded data removed]"
          },
          "metadata": {}
        }
      ]
    },
    {
      "cell_type": "code",
      "source": [
        "%%R\n",
        "null_passing_ST"
      ],
      "metadata": {
        "colab": {
          "base_uri": "https://localhost:8080/",
          "height": 497
        },
        "id": "5Kv7SJEStGt0",
        "outputId": "cfedbe16-0f42-4264-9568-0dc9e89a56bf"
      },
      "execution_count": null,
      "outputs": [
        {
          "output_type": "display_data",
          "data": {
            "image/png": "[encoded data removed]"
          },
          "metadata": {}
        }
      ]
    },
    {
      "cell_type": "markdown",
      "source": [
        "**Shooting**"
      ],
      "metadata": {
        "id": "LZx4z2aGt9t0"
      }
    },
    {
      "cell_type": "code",
      "source": [
        "%%R\n",
        "left_shooting = left_players |> group_by(team_position) |> summarize(sample_mean_l = mean(skill_fk_accuracy), std_l = sd(skill_fk_accuracy), n_l = n()) |> filter(team_position %in% c(\"LW\", \"RW\", \"ST\"))\n",
        "right_shooting = right_players |> group_by(team_position) |> summarize(sample_mean_r = mean(skill_fk_accuracy), std_r = sd(skill_fk_accuracy), n_r = n()) |> filter(team_position %in% c(\"LW\", \"RW\", \"ST\"))\n",
        "test_stats = merge(left_passing, right_passing)  |> mutate(x_bar = sample_mean_r - sample_mean_l, z = x_bar / sqrt(std_r^2 / n_r + std_l^2 / n_l)) |> select(team_position, x_bar, z)\n",
        "test_stats <- test_stats |> mutate(p = pnorm(abs(z), lower.tail = FALSE))\n",
        "test_stats"
      ],
      "metadata": {
        "colab": {
          "base_uri": "https://localhost:8080/"
        },
        "id": "pUuxUJwVt8_s",
        "outputId": "325d9706-8dcb-40f1-f0b7-883392484b6f"
      },
      "execution_count": null,
      "outputs": [
        {
          "output_type": "stream",
          "name": "stdout",
          "text": [
            "  team_position      x_bar           z          p\n",
            "1            LW  1.4581940  0.65692200 0.25561553\n",
            "2            RW -8.3577586 -2.11324620 0.01728985\n",
            "3            ST  0.1784091  0.07360522 0.47066226\n"
          ]
        }
      ]
    },
    {
      "cell_type": "code",
      "source": [
        "%%R\n",
        "test_stats\n",
        "null_model_shooting_LW <-\n",
        "   single_sample_fifa %>% filter(team_position == \"LW\") |>\n",
        "   specify(formula = skill_fk_accuracy ~ preferred_foot) %>%\n",
        "   hypothesise(null = \"independence\", mu = 0) %>%\n",
        "   generate(type = \"permute\", reps = 2000) %>%\n",
        "   calculate(stat = \"diff in means\", order = c(\"Right\", \"Left\"))\n",
        "\n",
        "null_model_shooting_RW <-\n",
        "   single_sample_fifa %>% filter(team_position == \"RW\") |>\n",
        "   specify(formula = skill_fk_accuracy ~ preferred_foot) %>%\n",
        "   hypothesise(null = \"independence\", mu = 0) %>%\n",
        "   generate(type = \"permute\", reps = 2000) %>%\n",
        "   calculate(stat = \"diff in means\", order = c(\"Right\", \"Left\"))\n",
        "\n",
        "  null_model_shooting_ST <-\n",
        "   single_sample_fifa %>% filter(team_position == \"ST\") |>\n",
        "   specify(formula = skill_fk_accuracy ~ preferred_foot) %>%\n",
        "   hypothesise(null = \"independence\", mu = 0) %>%\n",
        "   generate(type = \"permute\", reps = 2000) %>%\n",
        "   calculate(stat = \"diff in means\", order = c(\"Right\", \"Left\"))\n",
        "\n",
        "null_shooting_LW <- null_model_shooting_LW |>\n",
        "                    visualize(bins = 10) +\n",
        "                    shade_p_value(obs_stat = (test_stats |> filter(team_position == \"LW\"))$x_bar, direction = \"both\") +\n",
        "                    xlab(\"Mean Shooting skill difference in LW Position\") +\n",
        "                    ylab(\"Player count\") +\n",
        "                    ggtitle(\"Null distribution of Shooting skill rating difference between Left vs Right foot LW players\") +\n",
        "                    theme(text = element_text(size=10))\n",
        "\n",
        "null_shooting_RW <- null_model_shooting_RW |>\n",
        "                    visualize(bins = 10) +\n",
        "                    shade_p_value(obs_stat = (test_stats |> filter(team_position == \"RW\"))$x_bar, direction = \"both\") +\n",
        "                    xlab(\"Mean Shooting skill difference in RW Position\") +\n",
        "                    ylab(\"Player count\") +\n",
        "                    ggtitle(\"Null distribution of Shooting skill rating difference between Left vs Right foot RW players\") +\n",
        "                    theme(text = element_text(size=10))\n",
        "\n",
        "null_shooting_ST <- null_model_shooting_ST |>\n",
        "                    visualize(bins = 10) +\n",
        "                    shade_p_value(obs_stat = (test_stats |> filter(team_position == \"ST\"))$x_bar, direction = \"both\") +\n",
        "                    xlab(\"Mean Shooting skill difference in ST Position\") +\n",
        "                    ylab(\"Player count\") +\n",
        "                    ggtitle(\"Null distribution of Shooting skill rating difference between Left vs Right foot ST players\") +\n",
        "                    theme(text = element_text(size=10))"
      ],
      "metadata": {
        "id": "rx1Q-AHSulbf"
      },
      "execution_count": null,
      "outputs": []
    },
    {
      "cell_type": "code",
      "source": [
        "%%R\n",
        "null_shooting_LW"
      ],
      "metadata": {
        "colab": {
          "base_uri": "https://localhost:8080/",
          "height": 497
        },
        "id": "3O_-FqNevBRC",
        "outputId": "0151cd9a-bd27-49bb-e97f-f6bbfe87bf7d"
      },
      "execution_count": null,
      "outputs": [
        {
          "output_type": "display_data",
          "data": {
            "image/png": "[encoded data removed]"
          },
          "metadata": {}
        }
      ]
    },
    {
      "cell_type": "code",
      "source": [
        "%%R\n",
        "null_shooting_RW"
      ],
      "metadata": {
        "colab": {
          "base_uri": "https://localhost:8080/",
          "height": 497
        },
        "id": "cRqak0TZvFZW",
        "outputId": "5daede4e-b782-4663-8134-5c7e3d161bce"
      },
      "execution_count": null,
      "outputs": [
        {
          "output_type": "display_data",
          "data": {
            "image/png": "[encoded data removed]"
          },
          "metadata": {}
        }
      ]
    },
    {
      "cell_type": "code",
      "source": [
        "%%R\n",
        "null_shooting_ST"
      ],
      "metadata": {
        "colab": {
          "base_uri": "https://localhost:8080/",
          "height": 497
        },
        "id": "T8-4c3RxvG-z",
        "outputId": "70e912b0-c6ef-400d-c1f9-65ed6fe02655"
      },
      "execution_count": null,
      "outputs": [
        {
          "output_type": "display_data",
          "data": {
            "image/png": "[encoded data removed]"
          },
          "metadata": {}
        }
      ]
    },
    {
      "cell_type": "markdown",
      "metadata": {
        "id": "ak5_Unvm15zF"
      },
      "source": [
        "<h2> 4. References </h2>"
      ]
    },
    {
      "cell_type": "markdown",
      "metadata": {
        "id": "KLcus0wJliNo"
      },
      "source": [
        "\n",
        "*   **ESPN Football**, Tor-Kristian Karlsen: *Why does every club want a left-footed centre-back, and who is the best around?* (Oct 21, 2022) https://www.espn.co.uk/football/story/_/id/37633113/why-does-every-club-want-sign-left-footed-centre-back .\n",
        "\n",
        "*  **Medium**, Harun Ahmetbeyoglu: *Are left-footed footballers earning more? And they are more valuable than right-footed footballers? Investigation of this popular myth and bias.* (July 31, 2022) https://medium.com/@harun.ahmetbeyoglu/are-left-footed-footballers-earning-more-fde9b932912f .\n",
        "\n",
        "\n",
        "* **SoccerNovo**, *Left Footed Soccer Players: Is There an Advantage?* (2020) https://soccernovo.com/left-footed-soccer-players/ .\n",
        "\n",
        "\n",
        "\n",
        "\n"
      ]
    },
    {
      "cell_type": "code",
      "execution_count": null,
      "metadata": {
        "id": "shvprMOqIgXN"
      },
      "outputs": [],
      "source": []
    }
  ],
  "metadata": {
    "colab": {
      "provenance": [],
      "toc_visible": true,
      "include_colab_link": true
    },
    "kernelspec": {
      "display_name": "Python 3",
      "name": "python3"
    },
    "language_info": {
      "name": "python"
    }
  },
  "nbformat": 4,
  "nbformat_minor": 0
}